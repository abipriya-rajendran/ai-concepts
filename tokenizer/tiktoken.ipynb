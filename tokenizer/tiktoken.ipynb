{
 "cells": [
  {
   "cell_type": "markdown",
   "id": "b76a5af5",
   "metadata": {},
   "source": [
    "#### tiktoken is a fast BPE tokeniser for use with OpenAI's models.\n",
    "##### https://github.com/openai/tiktoken"
   ]
  },
  {
   "cell_type": "code",
   "execution_count": 7,
   "id": "c2a883ac",
   "metadata": {},
   "outputs": [
    {
     "name": "stdout",
     "output_type": "stream",
     "text": [
      "Requirement already satisfied: tiktoken in /Users/abipriya/Documents/ai-concepts/.venv/lib/python3.9/site-packages (0.11.0)\n",
      "Requirement already satisfied: regex>=2022.1.18 in /Users/abipriya/Documents/ai-concepts/.venv/lib/python3.9/site-packages (from tiktoken) (2025.7.34)\n",
      "Requirement already satisfied: requests>=2.26.0 in /Users/abipriya/Documents/ai-concepts/.venv/lib/python3.9/site-packages (from tiktoken) (2.32.4)\n",
      "Requirement already satisfied: charset_normalizer<4,>=2 in /Users/abipriya/Documents/ai-concepts/.venv/lib/python3.9/site-packages (from requests>=2.26.0->tiktoken) (3.4.3)\n",
      "Requirement already satisfied: idna<4,>=2.5 in /Users/abipriya/Documents/ai-concepts/.venv/lib/python3.9/site-packages (from requests>=2.26.0->tiktoken) (3.10)\n",
      "Requirement already satisfied: urllib3<3,>=1.21.1 in /Users/abipriya/Documents/ai-concepts/.venv/lib/python3.9/site-packages (from requests>=2.26.0->tiktoken) (2.5.0)\n",
      "Requirement already satisfied: certifi>=2017.4.17 in /Users/abipriya/Documents/ai-concepts/.venv/lib/python3.9/site-packages (from requests>=2.26.0->tiktoken) (2025.8.3)\n",
      "Note: you may need to restart the kernel to use updated packages.\n"
     ]
    }
   ],
   "source": [
    "pip install tiktoken"
   ]
  },
  {
   "cell_type": "markdown",
   "id": "7b56aacb",
   "metadata": {},
   "source": [
    "#### Step 1: Load a tokenizer for a model (e.g., GPT-3.5)"
   ]
  },
  {
   "cell_type": "code",
   "execution_count": 8,
   "id": "a35f6800",
   "metadata": {},
   "outputs": [
    {
     "name": "stderr",
     "output_type": "stream",
     "text": [
      "/Users/abipriya/Documents/ai-concepts/.venv/lib/python3.9/site-packages/urllib3/__init__.py:35: NotOpenSSLWarning: urllib3 v2 only supports OpenSSL 1.1.1+, currently the 'ssl' module is compiled with 'LibreSSL 2.8.3'. See: https://github.com/urllib3/urllib3/issues/3020\n",
      "  warnings.warn(\n"
     ]
    }
   ],
   "source": [
    "encoding = tiktoken.encoding_for_model(\"gpt-3.5-turbo\")"
   ]
  },
  {
   "cell_type": "markdown",
   "id": "fb66ec5e",
   "metadata": {},
   "source": [
    "#### Step 2: Text to encode"
   ]
  },
  {
   "cell_type": "code",
   "execution_count": 9,
   "id": "482f933f",
   "metadata": {},
   "outputs": [],
   "source": [
    "text = \"Hello world! I am a Software Engineer.\""
   ]
  },
  {
   "cell_type": "markdown",
   "id": "1e0d973a",
   "metadata": {},
   "source": [
    "#### Step 3: Encode (text -> token IDs)"
   ]
  },
  {
   "cell_type": "code",
   "execution_count": 10,
   "id": "9030393d",
   "metadata": {},
   "outputs": [
    {
     "name": "stdout",
     "output_type": "stream",
     "text": [
      "Token IDs: [9906, 1917, 0, 358, 1097, 264, 4476, 29483, 13]\n"
     ]
    }
   ],
   "source": [
    "token_ids = encoding.encode(text)\n",
    "print(\"Token IDs:\", token_ids)"
   ]
  },
  {
   "cell_type": "markdown",
   "id": "6a8cf794",
   "metadata": {},
   "source": [
    "#### Step 4: Decode (token IDs -> text)"
   ]
  },
  {
   "cell_type": "code",
   "execution_count": 11,
   "id": "28b9b8f5",
   "metadata": {},
   "outputs": [
    {
     "name": "stdout",
     "output_type": "stream",
     "text": [
      "Decoded text: Hello world! I am a Software Engineer.\n"
     ]
    }
   ],
   "source": [
    "decoded_text = encoding.decode(token_ids)\n",
    "print(\"Decoded text:\", decoded_text)"
   ]
  },
  {
   "cell_type": "markdown",
   "id": "751f4ff9",
   "metadata": {},
   "source": [
    "#### Step 5: Show tokens with their IDs"
   ]
  },
  {
   "cell_type": "code",
   "execution_count": 12,
   "id": "e040a978",
   "metadata": {},
   "outputs": [
    {
     "name": "stdout",
     "output_type": "stream",
     "text": [
      "\n",
      "Tokens with IDs:\n",
      "9906: 'Hello'\n",
      "1917: ' world'\n",
      "0: '!'\n",
      "358: ' I'\n",
      "1097: ' am'\n",
      "264: ' a'\n",
      "4476: ' Software'\n",
      "29483: ' Engineer'\n",
      "13: '.'\n"
     ]
    }
   ],
   "source": [
    "tokens = [encoding.decode([tid]) for tid in token_ids]\n",
    "print(\"\\nTokens with IDs:\")\n",
    "for tid, tok in zip(token_ids, tokens):\n",
    "    print(f\"{tid}: {repr(tok)}\")"
   ]
  }
 ],
 "metadata": {
  "kernelspec": {
   "display_name": ".venv",
   "language": "python",
   "name": "python3"
  },
  "language_info": {
   "codemirror_mode": {
    "name": "ipython",
    "version": 3
   },
   "file_extension": ".py",
   "mimetype": "text/x-python",
   "name": "python",
   "nbconvert_exporter": "python",
   "pygments_lexer": "ipython3",
   "version": "3.9.6"
  }
 },
 "nbformat": 4,
 "nbformat_minor": 5
}
